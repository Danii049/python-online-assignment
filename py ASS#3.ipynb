{
 "cells": [
  {
   "cell_type": "code",
   "execution_count": 6,
   "metadata": {},
   "outputs": [
    {
     "name": "stdout",
     "output_type": "stream",
     "text": [
      "enter opreator+\n",
      "enter valueA6\n",
      "enter valueB4\n",
      "10\n"
     ]
    }
   ],
   "source": [
    "opreator=input(\"enter opreator\")\n",
    "valA=int(input(\"enter valueA\"))\n",
    "valB=int(input('enter valueB'))\n",
    "if opreator == \"+\":\n",
    "    print(valA+valB)\n",
    "elif opreator==\"-\":\n",
    "    print(valA-valB)\n",
    "elif opreator==\"*\":\n",
    "    print(valA*valB)\n",
    "elif opreator==\"/\":\n",
    "    print(valA/valB)\n",
    "elif opreator==\"**\":\n",
    "    print(valA**valB)\n",
    "else:\n",
    "    print(\"invalid opreator\")\n",
    " "
   ]
  },
  {
   "cell_type": "code",
   "execution_count": 42,
   "metadata": {},
   "outputs": [
    {
     "name": "stdout",
     "output_type": "stream",
     "text": [
      "there is no numeric value in list\n",
      "there is no numeric value in list\n",
      "there is a numeric value in list\n",
      "there is no numeric value in list\n",
      "there is no numeric value in list\n"
     ]
    }
   ],
   "source": [
    "list1=[\"pak\",\"uzb\", 99 ,\"hellokitty\",\"xDDD\"]\n",
    "for list_check in list1:\n",
    "    if (list_check != 99):\n",
    "        print(\"there is no numeric value in list\")        \n",
    "    else:\n",
    "        print(\"there is a numeric value in list\")\n",
    "           \n",
    "\n"
   ]
  },
  {
   "cell_type": "code",
   "execution_count": 44,
   "metadata": {},
   "outputs": [
    {
     "name": "stdout",
     "output_type": "stream",
     "text": [
      "{0: 10, 1: 20}\n",
      "{0: 10, 1: 20, 2: 30}\n"
     ]
    }
   ],
   "source": [
    "d = {0:10, 1:20}\n",
    "print(d)\n",
    "d.update({2:30})\n",
    "print(d)"
   ]
  },
  {
   "cell_type": "code",
   "execution_count": 48,
   "metadata": {},
   "outputs": [
    {
     "name": "stdout",
     "output_type": "stream",
     "text": [
      "30\n"
     ]
    }
   ],
   "source": [
    "d={\"data1\":5,\"data2\":7,'data3':8,'data4':10}\n",
    "print(sum(d.values()))\n"
   ]
  },
  {
   "cell_type": "code",
   "execution_count": 50,
   "metadata": {},
   "outputs": [
    {
     "name": "stdout",
     "output_type": "stream",
     "text": [
      "[20, 30, -20, 60]\n"
     ]
    }
   ],
   "source": [
    "#copied_from_google_ofc_ye_apne_parhaya_nhe_aur_samjh_bhi_nhe_araha\n",
    "def Repeat(x): \n",
    "    _size = len(x) \n",
    "    repeated = [] \n",
    "    for i in range(_size): \n",
    "        k = i + 1\n",
    "        for j in range(k, _size): \n",
    "            if x[i] == x[j] and x[i] not in repeated: \n",
    "                repeated.append(x[i]) \n",
    "    return repeated \n",
    "list1 = [10, 20, 30, 20, 20, 30, 40,  \n",
    "         50, -20, 60, 60, -20, -20] \n",
    "print (Repeat(list1)) "
   ]
  },
  {
   "cell_type": "code",
   "execution_count": 57,
   "metadata": {},
   "outputs": [
    {
     "name": "stdout",
     "output_type": "stream",
     "text": [
      "Enter key to check:A\n",
      "Key is present and value of the key is: 1\n"
     ]
    }
   ],
   "source": [
    "d={'A':1,'B':2,'C':3}\n",
    "key=input(\"Enter key to check:\")\n",
    "if key in d.keys():\n",
    "      print(\"Key is present and value of the key is:\",d[key])    \n",
    "else:\n",
    "      print(\"Key isn't present!\")"
   ]
  }
 ],
 "metadata": {
  "kernelspec": {
   "display_name": "Python 3",
   "language": "python",
   "name": "python3"
  },
  "language_info": {
   "codemirror_mode": {
    "name": "ipython",
    "version": 3
   },
   "file_extension": ".py",
   "mimetype": "text/x-python",
   "name": "python",
   "nbconvert_exporter": "python",
   "pygments_lexer": "ipython3",
   "version": "3.7.4"
  }
 },
 "nbformat": 4,
 "nbformat_minor": 2
}
