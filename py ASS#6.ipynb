{
 "cells": [
  {
   "cell_type": "markdown",
   "metadata": {},
   "source": [
    "Q1)define object Oriented programming language?\n",
    "\n",
    "Object-oriented programming (OOP) is a programming language model in which programs are organized around data, or objects, rather than functions and logic. An object can be defined as a data field that has unique attributes and behavior. Examples of an object can range from physical entities, such as a human being that is described by properties like name and address, down to small computer programs, such as widgets."
   ]
  },
  {
   "cell_type": "markdown",
   "metadata": {},
   "source": [
    "Q2)list down the benefits of OOP?\n"
   ]
  },
  {
   "cell_type": "markdown",
   "metadata": {},
   "source": [
    "1.Modularity for easier troubleshooting.Something has gone wrong, and you have no idea where to look."
   ]
  },
  {
   "cell_type": "markdown",
   "metadata": {},
   "source": [
    " 2.Reuse of code through inheritance "
   ]
  },
  {
   "cell_type": "markdown",
   "metadata": {},
   "source": [
    " 3.Flexibility through polymorphism \n",
    "    "
   ]
  },
  {
   "cell_type": "markdown",
   "metadata": {},
   "source": [
    " 4.Effective problem solving"
   ]
  },
  {
   "cell_type": "markdown",
   "metadata": {},
   "source": [
    "Q3)differentiate between function and method?\n",
    "### function\n",
    "A function is a piece of code that is called by name. It can be passed data to operate on (i.e. the parameters) and can optionally return data (the return value). All data that is passed to a function is explicitly passed.\n",
    "### method\n",
    "A method is a piece of code that is called by a name that is associated with an object. In most respects it is identical to a function except for two key differences:\n",
    "A method is implicitly passed the object on which it was called.\n",
    "A method is able to operate on data that is contained within the class."
   ]
  },
  {
   "cell_type": "markdown",
   "metadata": {},
   "source": [
    "Q4) define the following terms: 1.class 2. object 3. attribute 4. behavior\n",
    "### class\n",
    " A class is a code template for creating objects. Objects have member variables and have behaviour associated with them. In python a class is created by the keyword class . An object is created using the constructor of the class.\n",
    "### object\n",
    "The object() function returns an empty object. You cannot add new properties or methods to this object. This object is the base for all classes, it holds the built-in properties and methods which are default for all classes.\n",
    "### attribute\n",
    "Attributes are the individual things that differentiate one object from another and determine the appearance, state, or other qualities of that object. Let's create a theoretical class called Motorcycle. A motorcycle class might include the following attributes and have these typical values:\n",
    "Color: red, green, silver, brown\n",
    "### behavior\n",
    "A class's behavior determines how an instance of that class operates; for example, how it will \"react\" if asked to do something by another class or object or if its internal state changes. Behavior is the only way objects can do anything to themselves or have anything done to them. For example, to go back to the theoretical Motorcycle class, here are some behaviors that the Motorcycle class might have:\n",
    "\n",
    "Start the engine\n",
    "Stop the engine\n"
   ]
  },
  {
   "cell_type": "code",
   "execution_count": 16,
   "metadata": {},
   "outputs": [
    {
     "name": "stdout",
     "output_type": "stream",
     "text": [
      "<__main__.car object at 0x0000027789A1F308>\n",
      "corolla\n",
      "silver\n",
      "hii\n",
      "2010\n",
      "19\n",
      "2020 modified make\n",
      "white modified color\n",
      "vxr modified model\n"
     ]
    }
   ],
   "source": [
    "class car:\n",
    "    def __init__(self,name,color,model,make,speed):\n",
    "        # Attributes and Attributes names\n",
    "        self.name=name\n",
    "        self.color=color\n",
    "        self.model=model\n",
    "        self.make=make\n",
    "        self.speed=speed\n",
    "    def updatemake(self,upmake):\n",
    "        self.make=upmake\n",
    "    def updatecolor(self,upcolor):\n",
    "        self.color=upcolor\n",
    "    def updatemodel(self,upmodel):\n",
    "        self.model=upmodel\n",
    "car1=car(\"corolla\",\"silver\",\"hii\",2010,19)\n",
    "print(car1)\n",
    "print(car1.name)\n",
    "print(car1.color)\n",
    "print(car1.model)\n",
    "print(car1.make)\n",
    "print(car1.speed)\n",
    "car1.updatemake(2020)\n",
    "print(car1.make,\"modified make\")\n",
    "\n",
    "car1.updatecolor('white')\n",
    "print(car1.color,\"modified color\")\n",
    "\n",
    "car1.updatemodel(\"vxr\")\n",
    "print(car1.model,\"modified model\")\n"
   ]
  },
  {
   "cell_type": "code",
   "execution_count": null,
   "metadata": {},
   "outputs": [],
   "source": []
  }
 ],
 "metadata": {
  "kernelspec": {
   "display_name": "Python 3",
   "language": "python",
   "name": "python3"
  },
  "language_info": {
   "codemirror_mode": {
    "name": "ipython",
    "version": 3
   },
   "file_extension": ".py",
   "mimetype": "text/x-python",
   "name": "python",
   "nbconvert_exporter": "python",
   "pygments_lexer": "ipython3",
   "version": "3.7.4"
  }
 },
 "nbformat": 4,
 "nbformat_minor": 2
}
