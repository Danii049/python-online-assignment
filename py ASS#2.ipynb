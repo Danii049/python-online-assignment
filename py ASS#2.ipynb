{
 "cells": [
  {
   "cell_type": "code",
   "execution_count": 1,
   "metadata": {},
   "outputs": [
    {
     "name": "stdout",
     "output_type": "stream",
     "text": [
      "enter your mathsmarks out of 10050\n",
      "enter your computermarks out of 10050\n",
      "enter your chemistrymarks out of 10050\n",
      "enter your physicsmarks out of 10050\n",
      "enter your englishmarks out of 10050\n",
      "50.0\n",
      "you have failed in your exam\n"
     ]
    }
   ],
   "source": [
    "maths=int(input(\"enter your mathsmarks out of 100\"))\n",
    "computer=int(input(\"enter your computermarks out of 100\"))\n",
    "chemistry=int(input(\"enter your chemistrymarks out of 100\"))\n",
    "physics=int(input(\"enter your physicsmarks out of 100\"))\n",
    "english=int(input(\"enter your englishmarks out of 100\"))\n",
    "total=maths+computer+chemistry+physics+english\n",
    "percentage=(total/500)*100\n",
    "print(percentage)\n",
    "if percentage>=90 and percentage<=100:\n",
    "    print(\"your grade is A*\")\n",
    "elif percentage>=80 and percentage<90:\n",
    "    print(\"your grade is A\")\n",
    "elif percentage>=70 and percentage<80:\n",
    "    print(\"your grade is B\")\n",
    "elif percentage>=60 and percentage<70:\n",
    "    print(\"your grade is C\")\n",
    "else:\n",
    "    print(\"you have failed in your exam\")\n",
    " "
   ]
  },
  {
   "cell_type": "code",
   "execution_count": 4,
   "metadata": {},
   "outputs": [
    {
     "name": "stdout",
     "output_type": "stream",
     "text": [
      "enter number0\n",
      "number is even\n"
     ]
    }
   ],
   "source": [
    "number=int(input(\"enter number\"))\n",
    "number= number%2\n",
    "if number>0:\n",
    "    print(\"number is odd\")\n",
    "else:\n",
    "    print(\"number is even\")\n",
    "    "
   ]
  },
  {
   "cell_type": "code",
   "execution_count": 10,
   "metadata": {},
   "outputs": [
    {
     "name": "stdout",
     "output_type": "stream",
     "text": [
      "8\n"
     ]
    }
   ],
   "source": [
    "country=\"pakistan\"\n",
    "X=len(country)\n",
    "print(X)"
   ]
  },
  {
   "cell_type": "code",
   "execution_count": 12,
   "metadata": {},
   "outputs": [
    {
     "name": "stdout",
     "output_type": "stream",
     "text": [
      "90\n"
     ]
    }
   ],
   "source": [
    "marks1=[20,20,20,30]\n",
    "total=sum(marks1)\n",
    "print(total)\n"
   ]
  },
  {
   "cell_type": "code",
   "execution_count": 16,
   "metadata": {},
   "outputs": [
    {
     "name": "stdout",
     "output_type": "stream",
     "text": [
      "99\n"
     ]
    }
   ],
   "source": [
    "list1=[99,6,69,10,1]\n",
    "list1.sort()\n",
    "print (list1[-1])"
   ]
  },
  {
   "cell_type": "code",
   "execution_count": 22,
   "metadata": {},
   "outputs": [
    {
     "name": "stdout",
     "output_type": "stream",
     "text": [
      "The numbers less than 5 : [1, 1, 2, 3]\n"
     ]
    }
   ],
   "source": [
    "a=[1,1,2,3,5,8,13,21,34,55,89]\n",
    "count = [i for i in a if i < 5]\n",
    "print (\"The numbers less than 5 : \" + str(count))"
   ]
  },
  {
   "cell_type": "code",
   "execution_count": null,
   "metadata": {},
   "outputs": [],
   "source": []
  }
 ],
 "metadata": {
  "kernelspec": {
   "display_name": "Python 3",
   "language": "python",
   "name": "python3"
  },
  "language_info": {
   "codemirror_mode": {
    "name": "ipython",
    "version": 3
   },
   "file_extension": ".py",
   "mimetype": "text/x-python",
   "name": "python",
   "nbconvert_exporter": "python",
   "pygments_lexer": "ipython3",
   "version": "3.7.4"
  }
 },
 "nbformat": 4,
 "nbformat_minor": 2
}
