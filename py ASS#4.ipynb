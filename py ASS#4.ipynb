{
 "cells": [
  {
   "cell_type": "code",
   "execution_count": 1,
   "metadata": {},
   "outputs": [
    {
     "name": "stdout",
     "output_type": "stream",
     "text": [
      "{'first_name': 'Danish', 'last_name': 'Bawany', 'age': 17, 'city': 'tashkent'}\n"
     ]
    }
   ],
   "source": [
    "data={\"first_name\":\"Danish\" , \"last_name\":\"Bawany\" , \"age\":17 , \"city\":\"tashkent\"}\n",
    "data[\"qualification\"]=\"highacademic\"\n",
    "del data[\"qualification\"]\n",
    "print(data)\n"
   ]
  },
  {
   "cell_type": "code",
   "execution_count": 2,
   "metadata": {},
   "outputs": [
    {
     "name": "stdout",
     "output_type": "stream",
     "text": [
      "{'city': 'karachi', 'country': 'pakistan', 'population': '14.91million', 'fact': 'cityoflights'}\n",
      "{'city': 'lahore', 'country': 'pakistan', 'population': '12million', 'fact': 'crimeratelowerthanus'}\n",
      "{'city': 'peshawar', 'country': 'pakistan', 'population': '6million', 'fact': 'kindandwelcomingpeople'}\n"
     ]
    }
   ],
   "source": [
    "cities={\n",
    " 1:{    \n",
    "     \"city\" : \"karachi\",\n",
    "     'country' : \"pakistan\",\n",
    "     \"population\" : \"14.91million\",\n",
    "     \"fact\" : \"cityoflights\",\n",
    " },\n",
    " 2:{\n",
    "     \"city\" : \"lahore\",\n",
    "     \"country\" : \"pakistan\",\n",
    "     \"population\" : \"12million\",\n",
    "     \"fact\" : \"crimeratelowerthanus\",\n",
    " },\n",
    " 3:{\n",
    "     \"city\" : \"peshawar\",\n",
    "     \"country\" : \"pakistan\",\n",
    "     \"population\" : \"6million\",\n",
    "     \"fact\" : \"kindandwelcomingpeople\",\n",
    " },\n",
    "}    \n",
    "print(cities[1])\n",
    "print(cities[2])\n",
    "print(cities[3])"
   ]
  },
  {
   "cell_type": "code",
   "execution_count": 3,
   "metadata": {},
   "outputs": [
    {
     "name": "stdout",
     "output_type": "stream",
     "text": [
      "enter your age1\n",
      "  You get in free!\n"
     ]
    }
   ],
   "source": [
    "age = int(input(\"enter your age\"))\n",
    "if age < 3:\n",
    "        print(\"  You get in free!\")\n",
    "elif age < 13:\n",
    "        print(\"  Your ticket is $10.\")\n",
    "else:\n",
    "        print(\"  Your ticket is $15.\")"
   ]
  },
  {
   "cell_type": "code",
   "execution_count": 8,
   "metadata": {},
   "outputs": [
    {
     "name": "stdout",
     "output_type": "stream",
     "text": [
      "Matilda is one of my favorite books.\n"
     ]
    }
   ],
   "source": [
    "def favorite_book(title):\n",
    "    print(title + \" is one of my favorite books.\")\n",
    "favorite_book('Matilda')"
   ]
  },
  {
   "cell_type": "code",
   "execution_count": 36,
   "metadata": {},
   "outputs": [
    {
     "name": "stdout",
     "output_type": "stream",
     "text": [
      "welcome to the number game\n",
      "you will have three guesses which will be a number between 1 and 30\n",
      "enter your guess4\n",
      "you are little low\n",
      "enter your guess8\n",
      "you little high\n",
      "enter your guess5\n",
      "you are little low\n"
     ]
    }
   ],
   "source": [
    "import random\n",
    "number = random.randint(1, 30)\n",
    "count=1\n",
    "won=\"false\"\n",
    "print(\"welcome to the number game\")\n",
    "print(\"you will have three guesses which will be a number between 1 and 30\")\n",
    "while count<4:    \n",
    "    count=count+1\n",
    "    guess=int(input(\"enter your guess\"))    \n",
    "    if guess==number:\n",
    "        won=\"true\"\n",
    "        print(\"congratulations! you are the lucky winner\")\n",
    "    elif guess<number:\n",
    "        print(\"you are little low\")\n",
    "    elif guess>number:\n",
    "        print(\"you little high\")\n",
    "\n"
   ]
  },
  {
   "cell_type": "code",
   "execution_count": null,
   "metadata": {},
   "outputs": [],
   "source": []
  }
 ],
 "metadata": {
  "kernelspec": {
   "display_name": "Python 3",
   "language": "python",
   "name": "python3"
  },
  "language_info": {
   "codemirror_mode": {
    "name": "ipython",
    "version": 3
   },
   "file_extension": ".py",
   "mimetype": "text/x-python",
   "name": "python",
   "nbconvert_exporter": "python",
   "pygments_lexer": "ipython3",
   "version": "3.7.4"
  }
 },
 "nbformat": 4,
 "nbformat_minor": 2
}
